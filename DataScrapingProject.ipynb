{
 "cells": [
  {
   "cell_type": "code",
   "execution_count": null,
   "id": "485435f6",
   "metadata": {},
   "outputs": [],
   "source": [
    "# import libraries \n",
    "\n",
    "from bs4 import BeautifulSoup\n",
    "import requests\n",
    "import smtplib\n",
    "import time\n",
    "import datetime"
   ]
  },
  {
   "cell_type": "markdown",
   "id": "96c25b62",
   "metadata": {},
   "source": [
    "We have to tell beautiful soup and requests where we are getting our data from. So we are going to connnect to the website."
   ]
  },
  {
   "cell_type": "code",
   "execution_count": null,
   "id": "9bb62315",
   "metadata": {},
   "outputs": [],
   "source": [
    "#Connect to website\n",
    "\n",
    "URL = \"https://www.amazon.com/Cellucor-Corperfromance-Creatine-Servings-12-69/dp/B01BVRO7T0/ref=rtpb_sccl_2/143-2339163-8367315?pd_rd_w=ToiPj&pf_rd_p=d12edb90-0e5b-498c-816a-9ba65872c34f&pf_rd_r=XWZ1KH9ZFP7MM1QGVW79&pd_rd_r=8b787672-7825-4312-840f-376f305bdec2&pd_rd_wg=3QR9m&pd_rd_i=B01BVRO7T0&psc=1\"\n",
    "#Need to get this from my computer via http://httpbin.org/get\n",
    "headers = {\"User-Agent\": \"Mozilla/5.0 (Windows NT 10.0; Win64; x64) AppleWebKit/537.36 (KHTML, like Gecko) Chrome/101.0.4951.67 Safari/537.36\"}\n",
    "\n",
    "#grabs this url  from your computer\n",
    "page = requests.get(URL, headers = headers)\n",
    "\n",
    "#Pulling in the content fom the html page.\n",
    "soup1 = BeautifulSoup(page.content, \"html.parser\") \n",
    "\n",
    "print(soup1)\n"
   ]
  },
  {
   "cell_type": "code",
   "execution_count": null,
   "id": "086c9b47",
   "metadata": {},
   "outputs": [],
   "source": [
    "# Upgrade to soup1\n",
    "# Make our output look better\n",
    "soup2 = BeautifulSoup(soup1.prettify(), \"html.parser\")\n",
    "\n",
    "print(soup2)"
   ]
  },
  {
   "cell_type": "markdown",
   "id": "02256626",
   "metadata": {},
   "source": [
    "Now that we our formatting done, lets look for Product title"
   ]
  },
  {
   "cell_type": "code",
   "execution_count": null,
   "id": "22bb4327",
   "metadata": {},
   "outputs": [],
   "source": [
    "title = soup2.find(id =\"productTitle\").get_text()\n",
    "\n",
    "print(title)"
   ]
  },
  {
   "cell_type": "markdown",
   "id": "55b324a6",
   "metadata": {},
   "source": [
    "Lets get the price."
   ]
  },
  {
   "cell_type": "code",
   "execution_count": null,
   "id": "16c34e52",
   "metadata": {},
   "outputs": [],
   "source": [
    "price = soup2.find(id =\"corePrice_desktop\").get_text()\n",
    "\n",
    "print(price)"
   ]
  },
  {
   "cell_type": "code",
   "execution_count": null,
   "id": "f4d14d7c",
   "metadata": {},
   "outputs": [],
   "source": [
    "stars = soup2.find(id =\"acrPopover\").get_text()\n",
    "\n",
    "print(stars)"
   ]
  },
  {
   "cell_type": "code",
   "execution_count": null,
   "id": "f86d785f",
   "metadata": {},
   "outputs": [],
   "source": [
    "print(title)\n",
    "print(price)\n",
    "print(stars)"
   ]
  },
  {
   "cell_type": "markdown",
   "id": "38af83c8",
   "metadata": {},
   "source": [
    "Lets clean up this output"
   ]
  },
  {
   "cell_type": "code",
   "execution_count": null,
   "id": "b5294915",
   "metadata": {},
   "outputs": [],
   "source": [
    "Title = title.strip()\n",
    "Price = price.strip()[50:55]\n",
    "Stars = stars.strip()\n",
    "\n",
    "print(Title)\n",
    "print(Price)\n",
    "print(Stars)"
   ]
  },
  {
   "cell_type": "markdown",
   "id": "6c075683",
   "metadata": {},
   "source": [
    "Create a Timestamp for you output to track when data was collected"
   ]
  },
  {
   "cell_type": "code",
   "execution_count": null,
   "id": "663bc49f",
   "metadata": {},
   "outputs": [],
   "source": [
    "import datetime\n",
    "\n",
    "Today = datetime.date.today()\n",
    "\n",
    "print(Today)"
   ]
  },
  {
   "cell_type": "markdown",
   "id": "b39f62c6",
   "metadata": {},
   "source": [
    "Create CSV and write headers and data into the file"
   ]
  },
  {
   "cell_type": "code",
   "execution_count": null,
   "id": "cb3a84bf",
   "metadata": {},
   "outputs": [],
   "source": [
    "import csv\n",
    "\n",
    "header = [\"Title\",\"Price\", \"Stars\", \"Date\"]\n",
    "data = [Title, Price, Stars, Today] # Make it into a list []\n",
    "\n",
    "# What we are going to name our CSV\n",
    "with open('AmazonWebScraperDataset.csv', 'w', newline = '', encoding='UTF8') as f:\n",
    "    writer = csv.writer(f) # Creates the the file on my computer\n",
    "    writer.writerow(header) # populates the first row with headers\n",
    "    writer.writerow(data) # Next row with my data entry.\n"
   ]
  },
  {
   "cell_type": "markdown",
   "id": "f1aed873",
   "metadata": {},
   "source": [
    "Check the data without having to open the csv file in excel"
   ]
  },
  {
   "cell_type": "code",
   "execution_count": null,
   "id": "beec2a63",
   "metadata": {},
   "outputs": [],
   "source": [
    "import pandas as pd\n",
    "\n",
    "df = pd.read_csv(r'C:\\Users\\Edwin Rosas\\AmazonWebScraperDataset.csv')\n",
    "print(df)\n"
   ]
  },
  {
   "cell_type": "markdown",
   "id": "70714813",
   "metadata": {},
   "source": [
    "Now we need to append new data to this file"
   ]
  },
  {
   "cell_type": "code",
   "execution_count": null,
   "id": "2e028af1",
   "metadata": {},
   "outputs": [],
   "source": [
    "# instead of writing (w) to the csv file, we will be appending (a+) to it.\n",
    "with open('AmazonWebScraperDataset.csv', 'a+', newline='', encoding='UTF8') as f:\n",
    "    writer = csv.writer(f)\n",
    "    writer.writerow(data)"
   ]
  },
  {
   "cell_type": "markdown",
   "id": "99456d37",
   "metadata": {},
   "source": [
    "Lets create a Function that combines all of the work above"
   ]
  },
  {
   "cell_type": "code",
   "execution_count": null,
   "id": "34b5674d",
   "metadata": {},
   "outputs": [],
   "source": [
    "def check_price():\n",
    "    URL = \"https://www.amazon.com/Cellucor-Corperfromance-Creatine-Servings-12-69/dp/B01BVRO7T0?pd_rd_w=arZJo&pf_rd_p=0fa666f9-8458-4064-8cd8-03e3608e5e74&pf_rd_r=YBT6167DZWCPTX3ABPSK&pd_rd_r=995fac30-1bc4-4b9c-8aea-2bd1246fbdbb&pd_rd_wg=pxsxC&pd_rd_i=B01BVRO7T0&psc=1&ref_=pd_bap_d_rp_1_t\"\n",
    " \n",
    "    headers = {\"User-Agent\": \"Mozilla/5.0 (Windows NT 10.0; Win64; x64) AppleWebKit/537.36 (KHTML, like Gecko) Chrome/101.0.4951.67 Safari/537.36\"}\n",
    "    page = requests.get(URL, headers = headers)\n",
    "\n",
    "    soup1 = BeautifulSoup(page.content, \"html.parser\") \n",
    "    soup2 = BeautifulSoup(soup1.prettify(), \"html.parser\")\n",
    "    \n",
    "    title = soup2.find(id =\"productTitle\").get_text()\n",
    "    price = soup2.find(id =\"corePrice_desktop\").get_text()\n",
    "    stars = soup2.find(id =\"acrPopover\").get_text()\n",
    "    \n",
    "    Title = title.strip()\n",
    "    Price = price.strip()[50:55]\n",
    "    Stars = stars.strip()\n",
    "    \n",
    "    import datetime\n",
    "    Today = datetime.date.today()\n",
    "    \n",
    "    import csv\n",
    "    header = [\"Title\",\"Price\", \"Stars\", \"Date\"]\n",
    "    data = [Title, Price, Stars, Today] \n",
    "    \n",
    "    with open('AmazonWebScraperDataset.csv', 'a+', newline='', encoding='UTF8') as f:\n",
    "        writer = csv.writer(f)\n",
    "        writer.writerow(data)\n",
    "    "
   ]
  },
  {
   "cell_type": "markdown",
   "id": "420a3822",
   "metadata": {},
   "source": [
    "Know we we program it to run on a timer."
   ]
  },
  {
   "cell_type": "code",
   "execution_count": null,
   "id": "d7a0eaaf",
   "metadata": {},
   "outputs": [],
   "source": [
    "while(True):\n",
    "    check_price()\n",
    "    time.sleep(86400)"
   ]
  },
  {
   "cell_type": "code",
   "execution_count": null,
   "id": "7636f10a",
   "metadata": {},
   "outputs": [],
   "source": [
    "import pandas as pd\n",
    "\n",
    "df = pd.read_csv(r'C:\\Users\\Edwin Rosas\\AmazonWebScraperDataset.csv')\n",
    "print(df)\n"
   ]
  }
 ],
 "metadata": {
  "kernelspec": {
   "display_name": "Python 3 (ipykernel)",
   "language": "python",
   "name": "python3"
  },
  "language_info": {
   "codemirror_mode": {
    "name": "ipython",
    "version": 3
   },
   "file_extension": ".py",
   "mimetype": "text/x-python",
   "name": "python",
   "nbconvert_exporter": "python",
   "pygments_lexer": "ipython3",
   "version": "3.9.7"
  }
 },
 "nbformat": 4,
 "nbformat_minor": 5
}
